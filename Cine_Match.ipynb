{
 "cells": [
  {
   "cell_type": "markdown",
   "id": "bb03d923-6d0a-4d82-b4f5-db0ad54634ab",
   "metadata": {},
   "source": [
    "Hrithesh Krishnan S\n",
    "21BTRCL048"
   ]
  },
  {
   "cell_type": "code",
   "execution_count": null,
   "id": "015b3b72-4e83-4fff-ac36-d7aa6a3f74f1",
   "metadata": {},
   "outputs": [],
   "source": [
    "class Movie:\n",
    "    def __init__(self, title, genre, rating):\n",
    "        self.title = title\n",
    "        self.genre = genre\n",
    "        self.rating = rating"
   ]
  },
  {
   "cell_type": "code",
   "execution_count": 1,
   "id": "5bb29f79-f959-461a-8d6e-a0565384a4c9",
   "metadata": {},
   "outputs": [],
   "source": [
    "class MovieRecommendationSystem:\n",
    "    def __init__(self):\n",
    "        self.movies = []\n",
    "\n",
    "    def add_movie(self, title, genre, rating):\n",
    "        new_movie = Movie(title, genre, rating)\n",
    "        self.movies.append(new_movie)\n",
    "        print(f\"Movie '{title}' added successfully.\")\n",
    "\n",
    "    def search_movie(self, title=None, genre=None):\n",
    "        results = []\n",
    "        for movie in self.movies:\n",
    "            if (title and title.lower() in movie.title.lower()) or (genre and genre.lower() in movie.genre.lower()):\n",
    "                results.append(movie)\n",
    "        return results\n",
    "\n",
    "    def delete_movie(self, title):\n",
    "        for movie in self.movies:\n",
    "            if movie.title.lower() == title.lower():\n",
    "                self.movies.remove(movie)\n",
    "                print(f\"Movie '{title}' deleted successfully.\")\n",
    "                return\n",
    "        print(f\"Movie '{title}' not found.\")\n",
    "\n",
    "    def recommend_top_movies(self, n):\n",
    "        sorted_movies = sorted(self.movies, key=lambda x: x.rating, reverse=True)\n",
    "        return sorted_movies[:n]\n",
    "\n",
    "    def display_movies(self, movies):\n",
    "        for movie in movies:\n",
    "            print(f\"Title: {movie.title}, Genre: {movie.genre}, Rating: {movie.rating}\")"
   ]
  },
  {
   "cell_type": "code",
   "execution_count": null,
   "id": "00381307-1fd1-4e0b-b67c-88aeef2ff5e7",
   "metadata": {},
   "outputs": [],
   "source": [
    "# Usage\n",
    "if __name__ == \"__main__\":\n",
    "    system = MovieRecommendationSystem()\n",
    "    \n",
    "    # Add movies\n",
    "    system.add_movie(\"Inception\", \"Sci-Fi\", 9.0)\n",
    "    system.add_movie(\"The Matrix\", \"Sci-Fi\", 8.7)\n",
    "    system.add_movie(\"Interstellar\", \"Sci-Fi\", 8.6)\n",
    "    system.add_movie(\"The Godfather\", \"Crime\", 9.2)\n",
    "    system.add_movie(\"The Dark Knight\", \"Action\", 9.0)\n",
    "    \n",
    "    # Search movies\n",
    "    print(\"\\nSearch Results:\")\n",
    "    search_results = system.search_movie(title=\"The\")\n",
    "    system.display_movies(search_results)\n",
    "    \n",
    "    # Recommend top N movies\n",
    "    print(\"\\nTop 3 Movies:\")\n",
    "    top_movies = system.recommend_top_movies(3)\n",
    "    system.display_movies(top_movies)\n",
    "    \n",
    "    # Delete a movie\n",
    "    system.delete_movie(\"Inception\")\n",
    "    \n",
    "    # Display all movies\n",
    "    print(\"\\nAll Movies:\")\n",
    "    system.display_movies(system.movies)\n"
   ]
  }
 ],
 "metadata": {
  "kernelspec": {
   "display_name": "Python 3 (ipykernel)",
   "language": "python",
   "name": "python3"
  },
  "language_info": {
   "codemirror_mode": {
    "name": "ipython",
    "version": 3
   },
   "file_extension": ".py",
   "mimetype": "text/x-python",
   "name": "python",
   "nbconvert_exporter": "python",
   "pygments_lexer": "ipython3",
   "version": "3.11.7"
  }
 },
 "nbformat": 4,
 "nbformat_minor": 5
}
